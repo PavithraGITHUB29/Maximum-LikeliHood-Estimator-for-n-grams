{
 "cells": [
  {
   "cell_type": "code",
   "execution_count": 20,
   "id": "85e367ba",
   "metadata": {},
   "outputs": [
    {
     "name": "stdout",
     "output_type": "stream",
     "text": [
      "+ : 3\n",
      "I : 3\n",
      "am : 2\n",
      "Sam : 2\n",
      "- : 3\n",
      "do : 1\n",
      "not : 1\n",
      "like : 1\n",
      "green : 1\n",
      "eggs : 1\n"
     ]
    }
   ],
   "source": [
    "data = \"+ I am Sam - + Sam I am - + I do not like green eggs -\"\n",
    "words = data.split()\n",
    "unigram_count = {}\n",
    "for word in words:\n",
    "        word = word.strip(\",.?!\")\n",
    "        if word in unigram_count:\n",
    "            unigram_count[word] += 1\n",
    "        else:\n",
    "            unigram_count[word] = 1\n",
    "for word,count in unigram_count.items():\n",
    "    print(word, \":\", count)"
   ]
  },
  {
   "cell_type": "code",
   "execution_count": 21,
   "id": "c3ffd8d0",
   "metadata": {},
   "outputs": [
    {
     "name": "stdout",
     "output_type": "stream",
     "text": [
      "('+', 'I') : 2\n",
      "('I', 'am') : 2\n",
      "('am', 'Sam') : 1\n",
      "('Sam', '-') : 1\n",
      "('-', '+') : 2\n",
      "('+', 'Sam') : 1\n",
      "('Sam', 'I') : 1\n",
      "('am', '-') : 1\n",
      "('I', 'do') : 1\n",
      "('do', 'not') : 1\n",
      "('not', 'like') : 1\n",
      "('like', 'green') : 1\n",
      "('green', 'eggs') : 1\n",
      "('eggs', '-') : 1\n"
     ]
    }
   ],
   "source": [
    "bigram_count = {}\n",
    "for i in range(len(words) - 1):\n",
    "    bigram = (words[i],words[i+1])\n",
    "    if bigram in bigram_count:\n",
    "        bigram_count[bigram] += 1\n",
    "    else:\n",
    "        bigram_count[bigram] = 1\n",
    "for i in bigram_count:\n",
    "    print(i ,\":\" ,bigram_count[i])"
   ]
  },
  {
   "cell_type": "code",
   "execution_count": 22,
   "id": "1db9e97f",
   "metadata": {},
   "outputs": [
    {
     "name": "stdout",
     "output_type": "stream",
     "text": [
      "enter the string: + I am Sam green −\n",
      "('+', 'I') : 1\n",
      "('I', 'am') : 1\n",
      "('am', 'Sam') : 1\n",
      "('Sam', 'green') : 1\n",
      "('green', '−') : 1\n"
     ]
    }
   ],
   "source": [
    "\n",
    "input_string = input(\"enter the string: \")\n",
    "input_string_list = input_string.split(\" \")\n",
    "input_bigram_count = {}\n",
    "for i in range(len(input_string_list) - 1):\n",
    "    bigram = (input_string_list[i],input_string_list[i+1])\n",
    "    if bigram in input_bigram_count:\n",
    "        input_bigram_count[bigram] += 1\n",
    "    else:\n",
    "        input_bigram_count[bigram] = 1\n",
    "for i in input_bigram_count:\n",
    "    print(i ,\":\" ,input_bigram_count[i])"
   ]
  },
  {
   "cell_type": "code",
   "execution_count": 23,
   "id": "77b3b17a",
   "metadata": {},
   "outputs": [
    {
     "name": "stdout",
     "output_type": "stream",
     "text": [
      "0\n"
     ]
    }
   ],
   "source": [
    "prob = 1\n",
    "for bigram in input_bigram_count:\n",
    "    if bigram[0] in unigram_count:\n",
    "        count_of_unigram = unigram_count[bigram[0]]\n",
    "        if (bigram[0], bigram[1]) in bigram_count:\n",
    "            count_of_bigram = bigram_count[(bigram[0], bigram[1])]\n",
    "            prob *= float(count_of_bigram / count_of_unigram)\n",
    "        else:\n",
    "            # Set probability to 0 for unseen bigrams\n",
    "            prob = 0\n",
    "            break\n",
    "    else:\n",
    "        # Set probability to 0 for unseen unigrams\n",
    "        prob = 0\n",
    "        break\n",
    "\n",
    "print(\"Expected Probability: \",prob)\n"
   ]
  },
  {
   "cell_type": "code",
   "execution_count": null,
   "id": "742f6af3",
   "metadata": {},
   "outputs": [],
   "source": []
  }
 ],
 "metadata": {
  "kernelspec": {
   "display_name": "Python 3 (ipykernel)",
   "language": "python",
   "name": "python3"
  },
  "language_info": {
   "codemirror_mode": {
    "name": "ipython",
    "version": 3
   },
   "file_extension": ".py",
   "mimetype": "text/x-python",
   "name": "python",
   "nbconvert_exporter": "python",
   "pygments_lexer": "ipython3",
   "version": "3.11.5"
  }
 },
 "nbformat": 4,
 "nbformat_minor": 5
}
